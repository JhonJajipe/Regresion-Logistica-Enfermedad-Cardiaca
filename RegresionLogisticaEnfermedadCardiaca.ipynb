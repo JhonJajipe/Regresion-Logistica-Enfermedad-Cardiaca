{
 "cells": [
  {
   "cell_type": "markdown",
   "id": "0bc88b2b-b733-49fb-ae26-65c5af9fcfa7",
   "metadata": {},
   "source": [
    "# Modelo de regresion logistica para deteccion de enfermedades cardiacas"
   ]
  },
  {
   "cell_type": "markdown",
   "id": "702cc51b-b782-49bd-bcfd-ea889c9eb736",
   "metadata": {},
   "source": [
    "## Importación de librerías"
   ]
  },
  {
   "cell_type": "markdown",
   "id": "2a0ab37e-eae0-44ab-9bc1-c706f68353c5",
   "metadata": {},
   "source": [
    "import pandas as pd\n",
    "import numpy as np \n",
    "import seaborn as sns \n",
    "import matplotlib.pyplot as plt \n",
    "from sklearn import metrics\n",
    "from sklearn.model_selection import train_test_split\n",
    "from sklearn.linear_model import LogisticRegression\n",
    "from sklearn.metrics import classification_report, confusion_matrix"
   ]
  },
  {
   "cell_type": "markdown",
   "id": "b8e53456-c1f3-4c56-9b4f-d0343f5b9f5a",
   "metadata": {},
   "source": [
    "## 1. Realizar un análisis exploratorio de los datos para identificar relaciones entre variables, valores atípicos, tendencias, etc."
   ]
  },
  {
   "cell_type": "code",
   "execution_count": 9,
   "id": "4ac0a03a-ce05-4f5d-8e58-0091adac080a",
   "metadata": {},
   "outputs": [],
   "source": [
    "# Creacion de variable donde se cargara el dataset \"Heart Disease Cleveland UCI\"\n",
    "enfermedadCardiaca = pd.read_csv('C:/Users/Jhon/Documents/UNAD/9_semestre/Analisis_de_datos/Tarea_3/heart_cleveland_upload.csv')"
   ]
  },
  {
   "cell_type": "code",
   "execution_count": 13,
   "id": "98e8d14b-9863-437f-a4ae-b803f3f4902b",
   "metadata": {},
   "outputs": [
    {
     "data": {
      "text/html": [
       "<div>\n",
       "<style scoped>\n",
       "    .dataframe tbody tr th:only-of-type {\n",
       "        vertical-align: middle;\n",
       "    }\n",
       "\n",
       "    .dataframe tbody tr th {\n",
       "        vertical-align: top;\n",
       "    }\n",
       "\n",
       "    .dataframe thead th {\n",
       "        text-align: right;\n",
       "    }\n",
       "</style>\n",
       "<table border=\"1\" class=\"dataframe\">\n",
       "  <thead>\n",
       "    <tr style=\"text-align: right;\">\n",
       "      <th></th>\n",
       "      <th>age</th>\n",
       "      <th>sex</th>\n",
       "      <th>cp</th>\n",
       "      <th>trestbps</th>\n",
       "      <th>chol</th>\n",
       "      <th>fbs</th>\n",
       "      <th>restecg</th>\n",
       "      <th>thalach</th>\n",
       "      <th>exang</th>\n",
       "      <th>oldpeak</th>\n",
       "      <th>slope</th>\n",
       "      <th>ca</th>\n",
       "      <th>thal</th>\n",
       "      <th>condition</th>\n",
       "    </tr>\n",
       "  </thead>\n",
       "  <tbody>\n",
       "    <tr>\n",
       "      <th>0</th>\n",
       "      <td>69</td>\n",
       "      <td>1</td>\n",
       "      <td>0</td>\n",
       "      <td>160</td>\n",
       "      <td>234</td>\n",
       "      <td>1</td>\n",
       "      <td>2</td>\n",
       "      <td>131</td>\n",
       "      <td>0</td>\n",
       "      <td>0.1</td>\n",
       "      <td>1</td>\n",
       "      <td>1</td>\n",
       "      <td>0</td>\n",
       "      <td>0</td>\n",
       "    </tr>\n",
       "    <tr>\n",
       "      <th>1</th>\n",
       "      <td>69</td>\n",
       "      <td>0</td>\n",
       "      <td>0</td>\n",
       "      <td>140</td>\n",
       "      <td>239</td>\n",
       "      <td>0</td>\n",
       "      <td>0</td>\n",
       "      <td>151</td>\n",
       "      <td>0</td>\n",
       "      <td>1.8</td>\n",
       "      <td>0</td>\n",
       "      <td>2</td>\n",
       "      <td>0</td>\n",
       "      <td>0</td>\n",
       "    </tr>\n",
       "    <tr>\n",
       "      <th>2</th>\n",
       "      <td>66</td>\n",
       "      <td>0</td>\n",
       "      <td>0</td>\n",
       "      <td>150</td>\n",
       "      <td>226</td>\n",
       "      <td>0</td>\n",
       "      <td>0</td>\n",
       "      <td>114</td>\n",
       "      <td>0</td>\n",
       "      <td>2.6</td>\n",
       "      <td>2</td>\n",
       "      <td>0</td>\n",
       "      <td>0</td>\n",
       "      <td>0</td>\n",
       "    </tr>\n",
       "    <tr>\n",
       "      <th>3</th>\n",
       "      <td>65</td>\n",
       "      <td>1</td>\n",
       "      <td>0</td>\n",
       "      <td>138</td>\n",
       "      <td>282</td>\n",
       "      <td>1</td>\n",
       "      <td>2</td>\n",
       "      <td>174</td>\n",
       "      <td>0</td>\n",
       "      <td>1.4</td>\n",
       "      <td>1</td>\n",
       "      <td>1</td>\n",
       "      <td>0</td>\n",
       "      <td>1</td>\n",
       "    </tr>\n",
       "    <tr>\n",
       "      <th>4</th>\n",
       "      <td>64</td>\n",
       "      <td>1</td>\n",
       "      <td>0</td>\n",
       "      <td>110</td>\n",
       "      <td>211</td>\n",
       "      <td>0</td>\n",
       "      <td>2</td>\n",
       "      <td>144</td>\n",
       "      <td>1</td>\n",
       "      <td>1.8</td>\n",
       "      <td>1</td>\n",
       "      <td>0</td>\n",
       "      <td>0</td>\n",
       "      <td>0</td>\n",
       "    </tr>\n",
       "    <tr>\n",
       "      <th>5</th>\n",
       "      <td>64</td>\n",
       "      <td>1</td>\n",
       "      <td>0</td>\n",
       "      <td>170</td>\n",
       "      <td>227</td>\n",
       "      <td>0</td>\n",
       "      <td>2</td>\n",
       "      <td>155</td>\n",
       "      <td>0</td>\n",
       "      <td>0.6</td>\n",
       "      <td>1</td>\n",
       "      <td>0</td>\n",
       "      <td>2</td>\n",
       "      <td>0</td>\n",
       "    </tr>\n",
       "    <tr>\n",
       "      <th>6</th>\n",
       "      <td>63</td>\n",
       "      <td>1</td>\n",
       "      <td>0</td>\n",
       "      <td>145</td>\n",
       "      <td>233</td>\n",
       "      <td>1</td>\n",
       "      <td>2</td>\n",
       "      <td>150</td>\n",
       "      <td>0</td>\n",
       "      <td>2.3</td>\n",
       "      <td>2</td>\n",
       "      <td>0</td>\n",
       "      <td>1</td>\n",
       "      <td>0</td>\n",
       "    </tr>\n",
       "    <tr>\n",
       "      <th>7</th>\n",
       "      <td>61</td>\n",
       "      <td>1</td>\n",
       "      <td>0</td>\n",
       "      <td>134</td>\n",
       "      <td>234</td>\n",
       "      <td>0</td>\n",
       "      <td>0</td>\n",
       "      <td>145</td>\n",
       "      <td>0</td>\n",
       "      <td>2.6</td>\n",
       "      <td>1</td>\n",
       "      <td>2</td>\n",
       "      <td>0</td>\n",
       "      <td>1</td>\n",
       "    </tr>\n",
       "    <tr>\n",
       "      <th>8</th>\n",
       "      <td>60</td>\n",
       "      <td>0</td>\n",
       "      <td>0</td>\n",
       "      <td>150</td>\n",
       "      <td>240</td>\n",
       "      <td>0</td>\n",
       "      <td>0</td>\n",
       "      <td>171</td>\n",
       "      <td>0</td>\n",
       "      <td>0.9</td>\n",
       "      <td>0</td>\n",
       "      <td>0</td>\n",
       "      <td>0</td>\n",
       "      <td>0</td>\n",
       "    </tr>\n",
       "    <tr>\n",
       "      <th>9</th>\n",
       "      <td>59</td>\n",
       "      <td>1</td>\n",
       "      <td>0</td>\n",
       "      <td>178</td>\n",
       "      <td>270</td>\n",
       "      <td>0</td>\n",
       "      <td>2</td>\n",
       "      <td>145</td>\n",
       "      <td>0</td>\n",
       "      <td>4.2</td>\n",
       "      <td>2</td>\n",
       "      <td>0</td>\n",
       "      <td>2</td>\n",
       "      <td>0</td>\n",
       "    </tr>\n",
       "  </tbody>\n",
       "</table>\n",
       "</div>"
      ],
      "text/plain": [
       "   age  sex  cp  trestbps  chol  fbs  restecg  thalach  exang  oldpeak  slope  \\\n",
       "0   69    1   0       160   234    1        2      131      0      0.1      1   \n",
       "1   69    0   0       140   239    0        0      151      0      1.8      0   \n",
       "2   66    0   0       150   226    0        0      114      0      2.6      2   \n",
       "3   65    1   0       138   282    1        2      174      0      1.4      1   \n",
       "4   64    1   0       110   211    0        2      144      1      1.8      1   \n",
       "5   64    1   0       170   227    0        2      155      0      0.6      1   \n",
       "6   63    1   0       145   233    1        2      150      0      2.3      2   \n",
       "7   61    1   0       134   234    0        0      145      0      2.6      1   \n",
       "8   60    0   0       150   240    0        0      171      0      0.9      0   \n",
       "9   59    1   0       178   270    0        2      145      0      4.2      2   \n",
       "\n",
       "   ca  thal  condition  \n",
       "0   1     0          0  \n",
       "1   2     0          0  \n",
       "2   0     0          0  \n",
       "3   1     0          1  \n",
       "4   0     0          0  \n",
       "5   0     2          0  \n",
       "6   0     1          0  \n",
       "7   2     0          1  \n",
       "8   0     0          0  \n",
       "9   0     2          0  "
      ]
     },
     "execution_count": 13,
     "metadata": {},
     "output_type": "execute_result"
    }
   ],
   "source": [
    "enfermedadCardiaca.head(10)"
   ]
  },
  {
   "cell_type": "markdown",
   "id": "5810772c-ea2d-43f6-822b-d3479c43941f",
   "metadata": {},
   "source": [
    "## Análisis de variables del dataset para realizacion de analisis exploratorio\n",
    "\n",
    "•\tage: edad en años\n",
    "\n",
    "•\tsex: sexo (1 = masculino; 0 = femenino)\n",
    "\n",
    "•\tcp: tipo de dolor torácico\n",
    "\n",
    "Valor 0: angina típica\n",
    "Valor 1: angina atípica\n",
    "Valor 2: dolor no anginoso\n",
    "Valor 3: asintomático\n",
    "\n",
    "•\ttrestbps: presión arterial en reposo (en mm Hg al ser admitido en el hospital)\n",
    "\n",
    "•\tchol: colesterol sérico en mg/dl\n",
    "\n",
    "•\tfbs: (glucosa en ayunas > 120 mg/dl) (1 = verdadero; 0 = falso)\n",
    "\n",
    "•\trestecg: resultados del electrocardiograma en reposo\n",
    "\n",
    "Valor 0: normal\n",
    "Valor 1: con anormalidad en la onda ST-T (inversiones de la onda T y/o elevación o depresión del segmento ST de > 0.05 mV)\n",
    "Valor 2: muestra probable o definida hipertrofia ventricular izquierda según los criterios de Estes\n",
    "\n",
    "•\tthalach: frecuencia cardíaca máxima alcanzada\n",
    "\n",
    "•\texang: angina inducida por el ejercicio (1 = sí; 0 = no)\n",
    "\n",
    "•\toldpeak: depresión del segmento ST inducida por ejercicio en relación al reposo\n",
    "\n",
    "•\tslope: pendiente del segmento ST durante el pico de ejercicio\n",
    "\n",
    "Valor 0: pendiente ascendente\n",
    "Valor 1: plana\n",
    "Valor 2: pendiente descendente\n",
    "\n",
    "•\tca: número de vasos principales (0-3) coloreados por fluoroscopía\n",
    "\n",
    "•\tthal: 0 = normal; 1 = defecto fijo; 2 = defecto reversible\n",
    "\n",
    "•\tcondition (etiqueta): 0 = sin enfermedad, 1 = con enfermedad\n",
    "\n"
   ]
  },
  {
   "cell_type": "code",
   "execution_count": 18,
   "id": "21f0db2d-ccb2-4c82-a50d-1c5d8df35267",
   "metadata": {},
   "outputs": [
    {
     "data": {
      "text/html": [
       "<div>\n",
       "<style scoped>\n",
       "    .dataframe tbody tr th:only-of-type {\n",
       "        vertical-align: middle;\n",
       "    }\n",
       "\n",
       "    .dataframe tbody tr th {\n",
       "        vertical-align: top;\n",
       "    }\n",
       "\n",
       "    .dataframe thead th {\n",
       "        text-align: right;\n",
       "    }\n",
       "</style>\n",
       "<table border=\"1\" class=\"dataframe\">\n",
       "  <thead>\n",
       "    <tr style=\"text-align: right;\">\n",
       "      <th></th>\n",
       "      <th>age</th>\n",
       "      <th>sex</th>\n",
       "      <th>cp</th>\n",
       "      <th>trestbps</th>\n",
       "      <th>chol</th>\n",
       "      <th>fbs</th>\n",
       "      <th>restecg</th>\n",
       "      <th>thalach</th>\n",
       "      <th>exang</th>\n",
       "      <th>oldpeak</th>\n",
       "      <th>slope</th>\n",
       "      <th>ca</th>\n",
       "      <th>thal</th>\n",
       "      <th>condition</th>\n",
       "    </tr>\n",
       "  </thead>\n",
       "  <tbody>\n",
       "    <tr>\n",
       "      <th>count</th>\n",
       "      <td>297.000000</td>\n",
       "      <td>297.000000</td>\n",
       "      <td>297.000000</td>\n",
       "      <td>297.000000</td>\n",
       "      <td>297.000000</td>\n",
       "      <td>297.000000</td>\n",
       "      <td>297.000000</td>\n",
       "      <td>297.000000</td>\n",
       "      <td>297.000000</td>\n",
       "      <td>297.000000</td>\n",
       "      <td>297.000000</td>\n",
       "      <td>297.000000</td>\n",
       "      <td>297.000000</td>\n",
       "      <td>297.000000</td>\n",
       "    </tr>\n",
       "    <tr>\n",
       "      <th>mean</th>\n",
       "      <td>54.542088</td>\n",
       "      <td>0.676768</td>\n",
       "      <td>2.158249</td>\n",
       "      <td>131.693603</td>\n",
       "      <td>247.350168</td>\n",
       "      <td>0.144781</td>\n",
       "      <td>0.996633</td>\n",
       "      <td>149.599327</td>\n",
       "      <td>0.326599</td>\n",
       "      <td>1.055556</td>\n",
       "      <td>0.602694</td>\n",
       "      <td>0.676768</td>\n",
       "      <td>0.835017</td>\n",
       "      <td>0.461279</td>\n",
       "    </tr>\n",
       "    <tr>\n",
       "      <th>std</th>\n",
       "      <td>9.049736</td>\n",
       "      <td>0.468500</td>\n",
       "      <td>0.964859</td>\n",
       "      <td>17.762806</td>\n",
       "      <td>51.997583</td>\n",
       "      <td>0.352474</td>\n",
       "      <td>0.994914</td>\n",
       "      <td>22.941562</td>\n",
       "      <td>0.469761</td>\n",
       "      <td>1.166123</td>\n",
       "      <td>0.618187</td>\n",
       "      <td>0.938965</td>\n",
       "      <td>0.956690</td>\n",
       "      <td>0.499340</td>\n",
       "    </tr>\n",
       "    <tr>\n",
       "      <th>min</th>\n",
       "      <td>29.000000</td>\n",
       "      <td>0.000000</td>\n",
       "      <td>0.000000</td>\n",
       "      <td>94.000000</td>\n",
       "      <td>126.000000</td>\n",
       "      <td>0.000000</td>\n",
       "      <td>0.000000</td>\n",
       "      <td>71.000000</td>\n",
       "      <td>0.000000</td>\n",
       "      <td>0.000000</td>\n",
       "      <td>0.000000</td>\n",
       "      <td>0.000000</td>\n",
       "      <td>0.000000</td>\n",
       "      <td>0.000000</td>\n",
       "    </tr>\n",
       "    <tr>\n",
       "      <th>25%</th>\n",
       "      <td>48.000000</td>\n",
       "      <td>0.000000</td>\n",
       "      <td>2.000000</td>\n",
       "      <td>120.000000</td>\n",
       "      <td>211.000000</td>\n",
       "      <td>0.000000</td>\n",
       "      <td>0.000000</td>\n",
       "      <td>133.000000</td>\n",
       "      <td>0.000000</td>\n",
       "      <td>0.000000</td>\n",
       "      <td>0.000000</td>\n",
       "      <td>0.000000</td>\n",
       "      <td>0.000000</td>\n",
       "      <td>0.000000</td>\n",
       "    </tr>\n",
       "    <tr>\n",
       "      <th>50%</th>\n",
       "      <td>56.000000</td>\n",
       "      <td>1.000000</td>\n",
       "      <td>2.000000</td>\n",
       "      <td>130.000000</td>\n",
       "      <td>243.000000</td>\n",
       "      <td>0.000000</td>\n",
       "      <td>1.000000</td>\n",
       "      <td>153.000000</td>\n",
       "      <td>0.000000</td>\n",
       "      <td>0.800000</td>\n",
       "      <td>1.000000</td>\n",
       "      <td>0.000000</td>\n",
       "      <td>0.000000</td>\n",
       "      <td>0.000000</td>\n",
       "    </tr>\n",
       "    <tr>\n",
       "      <th>75%</th>\n",
       "      <td>61.000000</td>\n",
       "      <td>1.000000</td>\n",
       "      <td>3.000000</td>\n",
       "      <td>140.000000</td>\n",
       "      <td>276.000000</td>\n",
       "      <td>0.000000</td>\n",
       "      <td>2.000000</td>\n",
       "      <td>166.000000</td>\n",
       "      <td>1.000000</td>\n",
       "      <td>1.600000</td>\n",
       "      <td>1.000000</td>\n",
       "      <td>1.000000</td>\n",
       "      <td>2.000000</td>\n",
       "      <td>1.000000</td>\n",
       "    </tr>\n",
       "    <tr>\n",
       "      <th>max</th>\n",
       "      <td>77.000000</td>\n",
       "      <td>1.000000</td>\n",
       "      <td>3.000000</td>\n",
       "      <td>200.000000</td>\n",
       "      <td>564.000000</td>\n",
       "      <td>1.000000</td>\n",
       "      <td>2.000000</td>\n",
       "      <td>202.000000</td>\n",
       "      <td>1.000000</td>\n",
       "      <td>6.200000</td>\n",
       "      <td>2.000000</td>\n",
       "      <td>3.000000</td>\n",
       "      <td>2.000000</td>\n",
       "      <td>1.000000</td>\n",
       "    </tr>\n",
       "  </tbody>\n",
       "</table>\n",
       "</div>"
      ],
      "text/plain": [
       "              age         sex          cp    trestbps        chol         fbs  \\\n",
       "count  297.000000  297.000000  297.000000  297.000000  297.000000  297.000000   \n",
       "mean    54.542088    0.676768    2.158249  131.693603  247.350168    0.144781   \n",
       "std      9.049736    0.468500    0.964859   17.762806   51.997583    0.352474   \n",
       "min     29.000000    0.000000    0.000000   94.000000  126.000000    0.000000   \n",
       "25%     48.000000    0.000000    2.000000  120.000000  211.000000    0.000000   \n",
       "50%     56.000000    1.000000    2.000000  130.000000  243.000000    0.000000   \n",
       "75%     61.000000    1.000000    3.000000  140.000000  276.000000    0.000000   \n",
       "max     77.000000    1.000000    3.000000  200.000000  564.000000    1.000000   \n",
       "\n",
       "          restecg     thalach       exang     oldpeak       slope          ca  \\\n",
       "count  297.000000  297.000000  297.000000  297.000000  297.000000  297.000000   \n",
       "mean     0.996633  149.599327    0.326599    1.055556    0.602694    0.676768   \n",
       "std      0.994914   22.941562    0.469761    1.166123    0.618187    0.938965   \n",
       "min      0.000000   71.000000    0.000000    0.000000    0.000000    0.000000   \n",
       "25%      0.000000  133.000000    0.000000    0.000000    0.000000    0.000000   \n",
       "50%      1.000000  153.000000    0.000000    0.800000    1.000000    0.000000   \n",
       "75%      2.000000  166.000000    1.000000    1.600000    1.000000    1.000000   \n",
       "max      2.000000  202.000000    1.000000    6.200000    2.000000    3.000000   \n",
       "\n",
       "             thal   condition  \n",
       "count  297.000000  297.000000  \n",
       "mean     0.835017    0.461279  \n",
       "std      0.956690    0.499340  \n",
       "min      0.000000    0.000000  \n",
       "25%      0.000000    0.000000  \n",
       "50%      0.000000    0.000000  \n",
       "75%      2.000000    1.000000  \n",
       "max      2.000000    1.000000  "
      ]
     },
     "execution_count": 18,
     "metadata": {},
     "output_type": "execute_result"
    }
   ],
   "source": [
    "# Descripcion para analisis de valores atipicos\n",
    "enfermedadCardiaca.describe()"
   ]
  },
  {
   "cell_type": "code",
   "execution_count": 30,
   "id": "79c3647a-99de-432e-80bb-791a81ebc1a8",
   "metadata": {},
   "outputs": [
    {
     "data": {
      "text/plain": [
       "Text(0.5, 1.0, 'Datos atipicos')"
      ]
     },
     "execution_count": 30,
     "metadata": {},
     "output_type": "execute_result"
    },
    {
     "data": {
      "image/png": "[encoded data removed]",
      "text/plain": [
       "<Figure size 1000x400 with 1 Axes>"
      ]
     },
     "metadata": {},
     "output_type": "display_data"
    }
   ],
   "source": [
    "#Identificación de datos atipicos variable edad\n",
    "\n",
    "plt.figure(figsize=(10, 4))\n",
    "sns.boxplot(x=enfermedadCardiaca['age'])\n",
    "plt.title('Datos atipicos', fontsize=12 )"
   ]
  },
  {
   "cell_type": "markdown",
   "id": "4e600932-a29b-4188-bd1f-65a269f1c69a",
   "metadata": {},
   "source": [
    "### No se evidencian valores atipicos en la variable de edad."
   ]
  },
  {
   "cell_type": "code",
   "execution_count": 32,
   "id": "848db11e-173a-4e12-9499-18c84a498ab3",
   "metadata": {},
   "outputs": [
    {
     "data": {
      "text/plain": [
       "Text(0.5, 1.0, 'Datos atipicos')"
      ]
     },
     "execution_count": 32,
     "metadata": {},
     "output_type": "execute_result"
    },
    {
     "data": {
      "image/png": "[encoded data removed]",
      "text/plain": [
       "<Figure size 1000x400 with 1 Axes>"
      ]
     },
     "metadata": {},
     "output_type": "display_data"
    }
   ],
   "source": [
    "#Identificación de datos atipicos variable trestbps\n",
    "\n",
    "plt.figure(figsize=(10, 4))\n",
    "sns.boxplot(x=enfermedadCardiaca['trestbps'])\n",
    "plt.title('Datos atipicos', fontsize=12 )"
   ]
  },
  {
   "cell_type": "markdown",
   "id": "54080bdd-8f13-41c6-8138-df29f36bd27b",
   "metadata": {},
   "source": [
    "### En la variable trestbps, La cual significa presion arterial en reposo se evidencian valores atipicos superiores a 170 pero estos valores nos indican que en nuestro dataset existen personas con un valor superior 150 mm Hg y se encuentran sufriendo hipertensión y se encuentran en un alto riesgo de enfermedad cardica."
   ]
  },
  {
   "cell_type": "code",
   "execution_count": 34,
   "id": "6746ab13-5c0e-4545-9f06-fdb511bad793",
   "metadata": {},
   "outputs": [
    {
     "data": {
      "text/plain": [
       "Text(0.5, 1.0, 'Datos atipicos')"
      ]
     },
     "execution_count": 34,
     "metadata": {},
     "output_type": "execute_result"
    },
    {
     "data": {
      "image/png": "[encoded data removed]",
      "text/plain": [
       "<Figure size 1000x400 with 1 Axes>"
      ]
     },
     "metadata": {},
     "output_type": "display_data"
    }
   ],
   "source": [
    "#Identificación de datos atipicos variable chol\n",
    "\n",
    "plt.figure(figsize=(10, 4))\n",
    "sns.boxplot(x=enfermedadCardiaca['chol'])\n",
    "plt.title('Datos atipicos', fontsize=12 )"
   ]
  },
  {
   "cell_type": "markdown",
   "id": "b6817816-5a62-4d73-973e-6e06a809d423",
   "metadata": {},
   "source": [
    "### En la variable chol la cual se refiere al colesterol serico en mg/dl nos indica que existen varias personas que se encuentran en valores superiores a 240 mg/dl esto significa que cuentan con alto riesgo de sufrir enfermedades cardiacas ademas de una persona que tiene 564 mg/dl  de acuerdo al valor maximo obtenido en la descripcion de la variable, significando una enfermedad cardíaca grave."
   ]
  },
  {
   "cell_type": "code",
   "execution_count": 36,
   "id": "8ff16332-38f4-44bc-927f-a26808e7a0c4",
   "metadata": {},
   "outputs": [
    {
     "data": {
      "text/plain": [
       "Text(0.5, 1.0, 'Datos atipicos')"
      ]
     },
     "execution_count": 36,
     "metadata": {},
     "output_type": "execute_result"
    },
    {
     "data": {
      "image/png": "[encoded data removed]",
      "text/plain": [
       "<Figure size 1000x400 with 1 Axes>"
      ]
     },
     "metadata": {},
     "output_type": "display_data"
    }
   ],
   "source": [
    "#Identificación de datos atipicos variable thalach\n",
    "\n",
    "plt.figure(figsize=(10, 4))\n",
    "sns.boxplot(x=enfermedadCardiaca['thalach'])\n",
    "plt.title('Datos atipicos', fontsize=12 )"
   ]
  },
  {
   "cell_type": "markdown",
   "id": "1142d42a-8c76-4cde-9491-75071ebdb2f5",
   "metadata": {},
   "source": [
    "### En la variable Thalach la cual se refiere a la frecuencia cardíaca máxima alcanzada, solo se evidencia un dato atipico el cual se refiere a una frecuencia cardiaca maxima alcanzada de 71 si esta muestra se tomo cuando la persona se encontraba en reposo solamente nos indica un valor típico para adultos dado que estos varían entre 60 y 100 lpm, en realidad los valores tipicos hallados en la variable son los realmente atipicos dado que una frecuencia de 135 a 165 lpm sería anormalmente alta y podría indicar condiciones como taquicardia si la muestra fue tomada en reposo, en cambio si fue tomada durante ejercicio estos valores serian normales.\n",
    "### El dataset no define si esta muestra fue tomada en reposo o durante ejercicio para este analisis lo tomare como que fue tomada durante actividad fisica."
   ]
  },
  {
   "cell_type": "markdown",
   "id": "5b328fc5-fa17-438f-aeac-8f88aef737a3",
   "metadata": {},
   "source": [
    "## 2. Preprocesar los datos limpiándolos, tratando valores faltantes y transformándolos según sea necesario."
   ]
  },
  {
   "cell_type": "code",
   "execution_count": 38,
   "id": "855493c4-be43-41ab-bc69-a11e5bed9585",
   "metadata": {},
   "outputs": [
    {
     "name": "stdout",
     "output_type": "stream",
     "text": [
      "Cantidad de Registros con cero en Edad:  0\n",
      "Cantidad de Registros con cero en Presión Arterial:  0\n",
      "Cantidad de Registros con cero en Colesterol Sérico :  0\n",
      "Cantidad de Registros con cero en Frecuencia Cardíaca Maxima :  0\n"
     ]
    }
   ],
   "source": [
    "print(\"Cantidad de Registros con cero en Edad: \",enfermedadCardiaca['age'].isin([0]).sum())\n",
    "print(\"Cantidad de Registros con cero en Presión Arterial: \",enfermedadCardiaca['trestbps'].isin([0]).sum())\n",
    "print(\"Cantidad de Registros con cero en Colesterol Sérico : \",enfermedadCardiaca['chol'].isin([0]).sum())\n",
    "print(\"Cantidad de Registros con cero en Frecuencia Cardíaca Maxima : \",enfermedadCardiaca['thalach'].isin([0]).sum())"
   ]
  },
  {
   "cell_type": "markdown",
   "id": "981a4e45-23ef-44e6-bcf5-f7c643cee6b8",
   "metadata": {},
   "source": [
    "### Se evaluan las variables en las cuales no se debe evidenciar un valor de cero, dado que las demas variables tienen\n",
    "### un valor asignado si el resultado es igual a cero.\n",
    "### Se evidencia que no existen valores faltantes, por lo cual no es necesario transformar ningun valor."
   ]
  },
  {
   "cell_type": "code",
   "execution_count": 44,
   "id": "19037ad9-fff5-4efa-aeeb-d90c58c65e56",
   "metadata": {},
   "outputs": [
    {
     "name": "stdout",
     "output_type": "stream",
     "text": [
      "<class 'pandas.core.frame.DataFrame'>\n",
      "RangeIndex: 297 entries, 0 to 296\n",
      "Data columns (total 14 columns):\n",
      " #   Column     Non-Null Count  Dtype  \n",
      "---  ------     --------------  -----  \n",
      " 0   age        297 non-null    int64  \n",
      " 1   sex        297 non-null    int64  \n",
      " 2   cp         297 non-null    int64  \n",
      " 3   trestbps   297 non-null    int64  \n",
      " 4   chol       297 non-null    int64  \n",
      " 5   fbs        297 non-null    int64  \n",
      " 6   restecg    297 non-null    int64  \n",
      " 7   thalach    297 non-null    int64  \n",
      " 8   exang      297 non-null    int64  \n",
      " 9   oldpeak    297 non-null    float64\n",
      " 10  slope      297 non-null    int64  \n",
      " 11  ca         297 non-null    int64  \n",
      " 12  thal       297 non-null    int64  \n",
      " 13  condition  297 non-null    int64  \n",
      "dtypes: float64(1), int64(13)\n",
      "memory usage: 32.6 KB\n"
     ]
    }
   ],
   "source": [
    "# Analisis de los tipos de datos para la seleccion de datos para el modelo\n",
    "\n",
    "enfermedadCardiaca.info()"
   ]
  },
  {
   "cell_type": "markdown",
   "id": "91f69458-c1f8-4e0d-a482-1dab764402e6",
   "metadata": {},
   "source": [
    "## 3. Seleccionar las características más relevantes para entrenar el modelo utilizando selección de características."
   ]
  },
  {
   "cell_type": "code",
   "execution_count": 52,
   "id": "53888ade-7220-440e-b7a6-144c195791fc",
   "metadata": {},
   "outputs": [
    {
     "data": {
      "text/plain": [
       "condition\n",
       "0    160\n",
       "1    137\n",
       "Name: count, dtype: int64"
      ]
     },
     "execution_count": 52,
     "metadata": {},
     "output_type": "execute_result"
    }
   ],
   "source": [
    "# Evaluacion de pacientes que actualmente tienen enfermedades cardiacas\n",
    "# condition (etiqueta): 0 = sin enfermedad, 1 = con enfermedad\n",
    "# Valor 0 (Normal): No se presentan signos de enfermedad cardíaca.\n",
    "# Valor 1 (Defecto Fijo): Se presenta diagnóstico de enfermedad cardiaca, posibilidad de riesgos mayores o complicaciones de salud.\n",
    "\n",
    "enfermedadCardiaca['condition'].value_counts()"
   ]
  },
  {
   "cell_type": "markdown",
   "id": "e53a4ce5-d480-41ca-818e-349bb49bf3fe",
   "metadata": {},
   "source": [
    "## 4. Dividir el dataset en Train y Test para evaluar correctamente el modelo."
   ]
  },
  {
   "cell_type": "code",
   "execution_count": 56,
   "id": "7cc27d6c-79a7-4fec-b30d-7b6652e63f24",
   "metadata": {},
   "outputs": [],
   "source": [
    "# Porcentaje de datos para (train) = 80% y (test) = 20%\n",
    "# Se crean variables X y Y para almacenar la información del entrenamiento\n",
    "\n",
    "X = enfermedadCardiaca.drop('condition',axis=1) \n",
    "Y = enfermedadCardiaca['condition'] \n",
    "\n",
    "X_train, X_test, Y_train, Y_test = train_test_split(X, Y, test_size=0.20, stratify=Y, random_state= 0)"
   ]
  },
  {
   "cell_type": "code",
   "execution_count": 58,
   "id": "c9547108-5d55-4fb2-8353-dbfd6fd5c09b",
   "metadata": {},
   "outputs": [
    {
     "name": "stdout",
     "output_type": "stream",
     "text": [
      "     age  sex  cp  trestbps  chol  fbs  restecg  thalach  exang  oldpeak  \\\n",
      "261   51    1   3       140   261    0        2      186      1      0.0   \n",
      "121   51    0   2       140   308    0        2      142      0      1.5   \n",
      "12    59    1   0       134   204    0        0      162      0      0.8   \n",
      "141   44    1   2       120   226    0        0      169      0      0.0   \n",
      "29    62    1   1       128   208    1        2      140      0      0.0   \n",
      "..   ...  ...  ..       ...   ...  ...      ...      ...    ...      ...   \n",
      "174   64    1   3       120   246    0        2       96      1      2.2   \n",
      "294   35    1   3       120   198    0        0      130      1      1.6   \n",
      "135   46    0   2       142   177    0        2      160      1      1.4   \n",
      "252   53    1   3       123   282    0        0       95      1      2.0   \n",
      "246   54    1   3       110   239    0        0      126      1      2.8   \n",
      "\n",
      "     slope  ca  thal  \n",
      "261      0   0     0  \n",
      "121      0   1     0  \n",
      "12       0   2     0  \n",
      "141      0   0     0  \n",
      "29       0   0     0  \n",
      "..     ...  ..   ...  \n",
      "174      2   1     0  \n",
      "294      1   0     2  \n",
      "135      2   0     0  \n",
      "252      1   2     2  \n",
      "246      1   1     2  \n",
      "\n",
      "[237 rows x 13 columns]\n"
     ]
    }
   ],
   "source": [
    "print (X_train)"
   ]
  },
  {
   "cell_type": "markdown",
   "id": "f7532dc6-6b37-46e6-859d-c850977dd463",
   "metadata": {},
   "source": [
    "### Se evidencia 13 columnas dentro de la variable X_train, sin tomar en cuenta la variable condition la cual se refiere a personas con enfermedades cardiacas."
   ]
  },
  {
   "cell_type": "code",
   "execution_count": 60,
   "id": "ae21569c-1c4c-44be-ac7f-e1d9caf903ad",
   "metadata": {},
   "outputs": [
    {
     "name": "stdout",
     "output_type": "stream",
     "text": [
      "261    0\n",
      "121    0\n",
      "12     1\n",
      "141    0\n",
      "29     0\n",
      "      ..\n",
      "174    1\n",
      "294    1\n",
      "135    0\n",
      "252    1\n",
      "246    1\n",
      "Name: condition, Length: 237, dtype: int64\n"
     ]
    }
   ],
   "source": [
    "print (Y_train)"
   ]
  },
  {
   "cell_type": "markdown",
   "id": "fc861dd8-d29d-4653-98dd-09f3e0d15f54",
   "metadata": {},
   "source": [
    "### Se evidencia 1 columna dentro de la variable Y_train, la cual es la variable condition la cual se refiere a personas \n",
    "con enfermedades cardiacas."
   ]
  },
  {
   "cell_type": "markdown",
   "id": "77b43175-25f6-4026-a239-2874b2296caf",
   "metadata": {},
   "source": [
    "## 5. Entrenar el modelo configurando los diferentes hiperparámetros."
   ]
  },
  {
   "cell_type": "code",
   "execution_count": 64,
   "id": "d8810cd0-aff6-454c-a660-f0a709176b29",
   "metadata": {},
   "outputs": [],
   "source": [
    "#Modelo que se aplicara de regresion logistica, haciendo uso de la libreria liblinear\n",
    "regresion_enfermedad_cardiaca = LogisticRegression(solver = \"liblinear\")\n",
    "regresion_enfermedad_cardiaca.fit (X_train , Y_train)   \n",
    "\n",
    "# Creacion del modelo de prediccion\n",
    "Prediccion = regresion_enfermedad_cardiaca.predict(X_test)"
   ]
  },
  {
   "cell_type": "code",
   "execution_count": 66,
   "id": "d1403c49-4378-45a2-9c6e-793baa2e48b2",
   "metadata": {},
   "outputs": [
    {
     "name": "stdout",
     "output_type": "stream",
     "text": [
      "[1 0 1 1 1 1 1 0 0 1 0 1 1 0 1 0 1 0 0 0 1 0 0 0 0 0 0 1 0 0 1 0 0 0 1 1 0\n",
      " 1 0 1 0 1 1 0 1 1 0 0 1 0 1 0 1 1 0 1 0 0 0 0]\n"
     ]
    }
   ],
   "source": [
    "print (Prediccion)"
   ]
  },
  {
   "cell_type": "markdown",
   "id": "012983cf-97cf-4524-99ac-15173c1378a5",
   "metadata": {},
   "source": [
    "## 6. Evaluar el desempeño del modelo en el conjunto de Test con métricas como precisión, recall, F1-score, etc."
   ]
  },
  {
   "cell_type": "code",
   "execution_count": 70,
   "id": "c385401e-30ef-4c13-9b1a-d1736905d377",
   "metadata": {},
   "outputs": [
    {
     "name": "stdout",
     "output_type": "stream",
     "text": [
      "              precision    recall  f1-score   support\n",
      "\n",
      "           0       0.88      0.91      0.89        32\n",
      "           1       0.89      0.86      0.87        28\n",
      "\n",
      "    accuracy                           0.88        60\n",
      "   macro avg       0.88      0.88      0.88        60\n",
      "weighted avg       0.88      0.88      0.88        60\n",
      "\n"
     ]
    }
   ],
   "source": [
    "#obtener los resultados de desempeño del modelo dee regresion\n",
    "print(classification_report(Y_test,Prediccion))"
   ]
  },
  {
   "cell_type": "markdown",
   "id": "cca1c8bb-4321-4885-803c-5c74a3d24225",
   "metadata": {},
   "source": [
    "## 7. Realizar las diferentes gráficas que permitan visualizar los resultados del modelo."
   ]
  },
  {
   "cell_type": "code",
   "execution_count": 72,
   "id": "d4fb8611-095d-4ac9-95aa-280b6d3ede93",
   "metadata": {},
   "outputs": [
    {
     "data": {
      "text/plain": [
       "<sklearn.metrics._plot.confusion_matrix.ConfusionMatrixDisplay at 0x1d37049e9f0>"
      ]
     },
     "execution_count": 72,
     "metadata": {},
     "output_type": "execute_result"
    },
    {
     "data": {
      "image/png": "[encoded data removed]",
      "text/plain": [
       "<Figure size 640x480 with 2 Axes>"
      ]
     },
     "metadata": {},
     "output_type": "display_data"
    }
   ],
   "source": [
    "cm=confusion_matrix(Y_test,Prediccion)\n",
    "disp=metrics.ConfusionMatrixDisplay(confusion_matrix=cm)\n",
    "disp.plot()"
   ]
  },
  {
   "cell_type": "markdown",
   "id": "6c83f823-4a33-43db-b142-9e3302be1562",
   "metadata": {},
   "source": []
  },
  {
   "cell_type": "code",
   "execution_count": 75,
   "id": "e6beebe8-0866-4238-9159-e257cf7c095b",
   "metadata": {},
   "outputs": [
    {
     "data": {
      "image/png": "[encoded data removed]",
      "text/plain": [
       "<Figure size 640x480 with 1 Axes>"
      ]
     },
     "metadata": {},
     "output_type": "display_data"
    }
   ],
   "source": [
    "# Curva de precisón del modelo\n",
    "\n",
    "from sklearn.metrics import RocCurveDisplay\n",
    "RocCurveDisplay.from_predictions(Y_test, Prediccion)\n",
    "plt.show()"
   ]
  },
  {
   "cell_type": "markdown",
   "id": "b7e686bf-5eb3-4fb6-babf-85dd7361fda3",
   "metadata": {},
   "source": [
    "## 8. Interpretar, analizar y documentar los resultados obtenidos."
   ]
  },
  {
   "cell_type": "markdown",
   "id": "fcd62fe5-f033-4b98-973d-84a41a5dfce2",
   "metadata": {},
   "source": [
    "La evaluacion realizada al modelo de regresion logistica por medio del analisis de precisión, recall, F1-score\n",
    "\n",
    "Precision: El modelo nos indica una precision del 0.88 en cuanto a casos sin enfermedad y 0.89 en cuanto a casos con enfermedad, esto nos indica que el entrenamiento del modelo haciendo uso del 80% de los datos cuenta con una alta capacidad de identificar correctamente los casos en los que una persona puede tener enfermedades cardiacas.\n",
    "\n",
    "Recall: El recall nos indica que el modelo de regresion logistica identifico 91% de los casos sin enfermedad y el 86% de los casos con enfermedad, lo que nos indica que existieron unos pocos casos inferiores al 14% que no pudieron ser detectados por el modelo.\n",
    "\n",
    "F1-Score: El F1-score es la media armónica entre precisión y recall, El F1-score presentado por el modelos de regresion logistica es de 0.89 para los casos sin enfermedad y 0.87 para los casos con enfermedad, esto nos indica un buen equilibrio entre la identificacion correctad de los casos.\n",
    "\n",
    "Accuracy: La exactitud es el porcentaje total de predicciones correctas realizadas por el modelo, el modelo fue correcto en el 88% de las ocasiones, lo que nos indica una exactitud bastante alta en cuanto presicion de las predicciones.\n",
    "\n",
    "En cuanto a la matrix de confusion podemos interpretar lo siguiente:\n",
    "\n",
    "Si analizamos los resultados de la matrix de confusion se puede evaluar que el modelo de regresion logistica:\n",
    "En 29 casos dijo que una persona tenia una enfermedad cardiaca y acerto correctamente.\n",
    "En 4 casos dijo que una persona tenia una enfermedad cardiaca y esto fue incorrecto.\n",
    "En 24 casos dijo que una persona no tenia ninguna enfermedad cardiaca y acerto correctamente.\n",
    "En 3 casos dijo que una persona no tenia ninguna enfermedad cardiaca y esto fue incorrecto.\n",
    "\n",
    "Esto tomando en cuenta los 297 registros con los cuales cuenta el dataset.\n",
    "\n",
    "En cuanto a la curva de precision del modelo de regresion logistica:\n",
    "Se puede identificar que el AUC = 0.88 esto nos quiere indicar que el umbral de clasificaciones correctas en de un 88% tal y como tambien lo identificas en el analisis de la exactitud total."
   ]
  }
 ],
 "metadata": {
  "kernelspec": {
   "display_name": "Python 3 (ipykernel)",
   "language": "python",
   "name": "python3"
  },
  "language_info": {
   "codemirror_mode": {
    "name": "ipython",
    "version": 3
   },
   "file_extension": ".py",
   "mimetype": "text/x-python",
   "name": "python",
   "nbconvert_exporter": "python",
   "pygments_lexer": "ipython3",
   "version": "3.12.4"
  }
 },
 "nbformat": 4,
 "nbformat_minor": 5
}
